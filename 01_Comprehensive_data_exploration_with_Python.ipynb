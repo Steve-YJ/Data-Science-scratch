{
  "nbformat": 4,
  "nbformat_minor": 0,
  "metadata": {
    "colab": {
      "name": "01. Comprehensive data exploration with Python.ipynb",
      "provenance": [],
      "authorship_tag": "ABX9TyPOMEji23Wo1AVtcRzVB2ho",
      "include_colab_link": true
    },
    "kernelspec": {
      "name": "python3",
      "display_name": "Python 3"
    }
  },
  "cells": [
    {
      "cell_type": "markdown",
      "metadata": {
        "id": "view-in-github",
        "colab_type": "text"
      },
      "source": [
        "<a href=\"https://colab.research.google.com/github/Steve-YJ/Data-Science-scratch/blob/master/01_Comprehensive_data_exploration_with_Python.ipynb\" target=\"_parent\"><img src=\"https://colab.research.google.com/assets/colab-badge.svg\" alt=\"Open In Colab\"/></a>"
      ]
    },
    {
      "cell_type": "markdown",
      "metadata": {
        "id": "Gt8t8ut7FaWo"
      },
      "source": [
        "# Comprehensive data exploration with Python\n",
        "\n",
        "\"The most difficult thing in life is to know yourself\"\n",
        "\n",
        "\"I wouldn't say that knowing your data is the most difficult thing in data science, but it is time-consuming. Therefore, it's easy to overlook this initial step and jump too soon into the water.\"\n",
        "\n",
        "* Understand the problem\n",
        "* Univariable study\n",
        "* Multivariable study\n",
        "* Basic cleaning\n",
        "* Test assumptions\n",
        "\n"
      ]
    },
    {
      "cell_type": "code",
      "metadata": {
        "id": "1P-CHhOqFU5V"
      },
      "source": [
        "% load_ext autoreload\n",
        "%autoreload 2"
      ],
      "execution_count": 1,
      "outputs": []
    },
    {
      "cell_type": "code",
      "metadata": {
        "id": "p-E2v5NpGuId",
        "outputId": "122d6ded-d9fb-4d32-effa-d2112024193d",
        "colab": {
          "base_uri": "https://localhost:8080/",
          "height": 35
        }
      },
      "source": [
        "# drive mount\n",
        "from google.colab import drive\n",
        "drive.mount('/content/drive', force_remount=True)"
      ],
      "execution_count": 2,
      "outputs": [
        {
          "output_type": "stream",
          "text": [
            "Mounted at /content/drive\n"
          ],
          "name": "stdout"
        }
      ]
    },
    {
      "cell_type": "code",
      "metadata": {
        "id": "27Q7D4RlGuLR",
        "outputId": "5c36a4db-5fb2-4bb3-f8b3-8053c23852f9",
        "colab": {
          "base_uri": "https://localhost:8080/",
          "height": 35
        }
      },
      "source": [
        "% cd drive/My\\ Drive/Kaggle-DataScience/Explore-Kernels"
      ],
      "execution_count": 4,
      "outputs": [
        {
          "output_type": "stream",
          "text": [
            "/content/drive/My Drive/Kaggle-DataScience/Explore-Kernels\n"
          ],
          "name": "stdout"
        }
      ]
    },
    {
      "cell_type": "code",
      "metadata": {
        "id": "ursta2G6GuNL",
        "outputId": "a9e6d732-db10-4405-cc07-909de5f381f8",
        "colab": {
          "base_uri": "https://localhost:8080/",
          "height": 35
        }
      },
      "source": [
        "! ls"
      ],
      "execution_count": 6,
      "outputs": [
        {
          "output_type": "stream",
          "text": [
            "'01. Comprehensive data exploration with Python.ipynb'\t data\n"
          ],
          "name": "stdout"
        }
      ]
    },
    {
      "cell_type": "code",
      "metadata": {
        "id": "tjGS8l_nGuOX"
      },
      "source": [
        "# invite people for the Kaggle party\n",
        "import pandas as pd\n",
        "import matplotlib.pyplot as plt\n",
        "import seaborn as sns\n",
        "import numpy as np\n",
        "from scipy.stats import norm\n",
        "from sklearn.preprocessing import StandardScaler\n",
        "from scipy import stats\n",
        "import warnings\n",
        "warnings.filterwarnings('ignore')\n",
        "%matplotlib inline"
      ],
      "execution_count": 7,
      "outputs": []
    },
    {
      "cell_type": "code",
      "metadata": {
        "id": "aiTrOIodI4bR"
      },
      "source": [
        "# bring in the six packs\n",
        "df_train = pd.read_csv('./data/train.csv')"
      ],
      "execution_count": 8,
      "outputs": []
    },
    {
      "cell_type": "code",
      "metadata": {
        "id": "FmZyQN-zJBCy",
        "outputId": "08f11530-1640-4bd4-86c6-e1e265c97e54",
        "colab": {
          "base_uri": "https://localhost:8080/",
          "height": 328
        }
      },
      "source": [
        "# check the decoration\n",
        "df_train.columns"
      ],
      "execution_count": 9,
      "outputs": [
        {
          "output_type": "execute_result",
          "data": {
            "text/plain": [
              "Index(['Id', 'MSSubClass', 'MSZoning', 'LotFrontage', 'LotArea', 'Street',\n",
              "       'Alley', 'LotShape', 'LandContour', 'Utilities', 'LotConfig',\n",
              "       'LandSlope', 'Neighborhood', 'Condition1', 'Condition2', 'BldgType',\n",
              "       'HouseStyle', 'OverallQual', 'OverallCond', 'YearBuilt', 'YearRemodAdd',\n",
              "       'RoofStyle', 'RoofMatl', 'Exterior1st', 'Exterior2nd', 'MasVnrType',\n",
              "       'MasVnrArea', 'ExterQual', 'ExterCond', 'Foundation', 'BsmtQual',\n",
              "       'BsmtCond', 'BsmtExposure', 'BsmtFinType1', 'BsmtFinSF1',\n",
              "       'BsmtFinType2', 'BsmtFinSF2', 'BsmtUnfSF', 'TotalBsmtSF', 'Heating',\n",
              "       'HeatingQC', 'CentralAir', 'Electrical', '1stFlrSF', '2ndFlrSF',\n",
              "       'LowQualFinSF', 'GrLivArea', 'BsmtFullBath', 'BsmtHalfBath', 'FullBath',\n",
              "       'HalfBath', 'BedroomAbvGr', 'KitchenAbvGr', 'KitchenQual',\n",
              "       'TotRmsAbvGrd', 'Functional', 'Fireplaces', 'FireplaceQu', 'GarageType',\n",
              "       'GarageYrBlt', 'GarageFinish', 'GarageCars', 'GarageArea', 'GarageQual',\n",
              "       'GarageCond', 'PavedDrive', 'WoodDeckSF', 'OpenPorchSF',\n",
              "       'EnclosedPorch', '3SsnPorch', 'ScreenPorch', 'PoolArea', 'PoolQC',\n",
              "       'Fence', 'MiscFeature', 'MiscVal', 'MoSold', 'YrSold', 'SaleType',\n",
              "       'SaleCondition', 'SalePrice'],\n",
              "      dtype='object')"
            ]
          },
          "metadata": {
            "tags": []
          },
          "execution_count": 9
        }
      ]
    },
    {
      "cell_type": "markdown",
      "metadata": {
        "id": "DjCsJM7HJFiO"
      },
      "source": [
        "## 1. So... What can we expect?\n",
        "In order to understand our data, we can look at each variable and try to understand their meaning and relevance to this problem. I know this is time-consuming, but it will give us the flavour of our dataset.\n",
        "<br>\n",
        "\n",
        "\n",
        "In order to have some discipline in our analysis, we can create an Excel spreadsheet with the following columns:\n",
        "\n",
        "\n",
        "* Variable\n",
        "* Type\n",
        "* Segment\n",
        "* Expectation\n",
        "* Conclusion\n",
        "* Comments"
      ]
    },
    {
      "cell_type": "markdown",
      "metadata": {
        "id": "GobsZzFUK_HO"
      },
      "source": [
        "## 2. First things first: analysing 'SalePrice'"
      ]
    },
    {
      "cell_type": "code",
      "metadata": {
        "id": "UzAI64d2I4tz",
        "outputId": "2ecf7f19-68c5-4888-889f-9ddb05e2e7b5",
        "colab": {
          "base_uri": "https://localhost:8080/",
          "height": 173
        }
      },
      "source": [
        "# descriptive statistics summary\n",
        "df_train['SalePrice'].describe()"
      ],
      "execution_count": 10,
      "outputs": [
        {
          "output_type": "execute_result",
          "data": {
            "text/plain": [
              "count      1460.000000\n",
              "mean     180921.195890\n",
              "std       79442.502883\n",
              "min       34900.000000\n",
              "25%      129975.000000\n",
              "50%      163000.000000\n",
              "75%      214000.000000\n",
              "max      755000.000000\n",
              "Name: SalePrice, dtype: float64"
            ]
          },
          "metadata": {
            "tags": []
          },
          "execution_count": 10
        }
      ]
    },
    {
      "cell_type": "code",
      "metadata": {
        "id": "CUYIR2OWI4wo",
        "outputId": "b1fa7b56-3c18-4e78-d50f-4b78dd6a3074",
        "colab": {
          "base_uri": "https://localhost:8080/",
          "height": 307
        }
      },
      "source": [
        "# histogram\n",
        "sns.distplot(df_train['SalePrice'])"
      ],
      "execution_count": 11,
      "outputs": [
        {
          "output_type": "execute_result",
          "data": {
            "text/plain": [
              "<matplotlib.axes._subplots.AxesSubplot at 0x7f305209fe10>"
            ]
          },
          "metadata": {
            "tags": []
          },
          "execution_count": 11
        },
        {
          "output_type": "display_data",
          "data": {
            "image/png": "[encoded data removed]",
            "text/plain": [
              "<Figure size 432x288 with 1 Axes>"
            ]
          },
          "metadata": {
            "tags": [],
            "needs_background": "light"
          }
        }
      ]
    },
    {
      "cell_type": "markdown",
      "metadata": {
        "id": "nEY56Cg1MbyQ"
      },
      "source": [
        "'Ah! I see you that you use seaborn makeup when you're going out... That's so elegant! I also see that you:\n",
        "\n",
        "* Deviate from the normal distribution.\n",
        "* Have appreciable positive skewness.\n",
        "* Show peakedness.\n",
        "\n",
        "\n",
        "This is getting interesting! 'SalePrice', could you give me your body measures?'"
      ]
    },
    {
      "cell_type": "code",
      "metadata": {
        "id": "kU1q-dmWI4zy",
        "outputId": "248fc3f7-4a2c-4519-87d2-80c0a6077d67",
        "colab": {
          "base_uri": "https://localhost:8080/",
          "height": 52
        }
      },
      "source": [
        "# Skewness and kurtosis\n",
        "print(\"Skewness: %f\" % df_train['SalePrice'].skew())\n",
        "print(\"Kurtosis: %f\" % df_train['SalePrice'].kurt())"
      ],
      "execution_count": 14,
      "outputs": [
        {
          "output_type": "stream",
          "text": [
            "Skewness: 1.882876\n",
            "Kurtosis: 6.536282\n"
          ],
          "name": "stdout"
        }
      ]
    },
    {
      "cell_type": "markdown",
      "metadata": {
        "id": "LJscjIc6NGK3"
      },
      "source": [
        "'Amazing! If my love calculator is correct, our success probability is 97.834657%. I think we should meet again! Please, keep my number and give me a call if you're free next Friday. See you in a while, crocodile!'"
      ]
    },
    {
      "cell_type": "markdown",
      "metadata": {
        "id": "AwBRYO_TNG8D"
      },
      "source": [
        "lol :) -20.10.19.mon. pm 11:02-"
      ]
    },
    {
      "cell_type": "code",
      "metadata": {
        "id": "lBKOV-AII42_"
      },
      "source": [
        ""
      ],
      "execution_count": 7,
      "outputs": []
    },
    {
      "cell_type": "code",
      "metadata": {
        "id": "t8Ib5CQ9I46I"
      },
      "source": [
        ""
      ],
      "execution_count": 7,
      "outputs": []
    },
    {
      "cell_type": "code",
      "metadata": {
        "id": "jf3bi9U2I49R"
      },
      "source": [
        ""
      ],
      "execution_count": 7,
      "outputs": []
    },
    {
      "cell_type": "code",
      "metadata": {
        "id": "RXdmO_ZOI5AF"
      },
      "source": [
        ""
      ],
      "execution_count": 7,
      "outputs": []
    },
    {
      "cell_type": "code",
      "metadata": {
        "id": "sX-s1NKPI5DX"
      },
      "source": [
        ""
      ],
      "execution_count": 7,
      "outputs": []
    },
    {
      "cell_type": "code",
      "metadata": {
        "id": "OzMCx5HYI5Ge"
      },
      "source": [
        ""
      ],
      "execution_count": 7,
      "outputs": []
    },
    {
      "cell_type": "code",
      "metadata": {
        "id": "tIHfDYY-I5JP"
      },
      "source": [
        ""
      ],
      "execution_count": 7,
      "outputs": []
    },
    {
      "cell_type": "code",
      "metadata": {
        "id": "BqJpbruJI5MC"
      },
      "source": [
        ""
      ],
      "execution_count": 7,
      "outputs": []
    },
    {
      "cell_type": "code",
      "metadata": {
        "id": "JBPQVdoYI5O_"
      },
      "source": [
        ""
      ],
      "execution_count": 7,
      "outputs": []
    },
    {
      "cell_type": "code",
      "metadata": {
        "id": "7ItxuecII5R9"
      },
      "source": [
        ""
      ],
      "execution_count": null,
      "outputs": []
    },
    {
      "cell_type": "markdown",
      "metadata": {
        "id": "jiXegPvvGuQv"
      },
      "source": [
        "## Reference\n",
        "https://www.kaggle.com/pmarcelino/comprehensive-data-exploration-with-python"
      ]
    },
    {
      "cell_type": "code",
      "metadata": {
        "id": "Ce3zkH7GGvmT"
      },
      "source": [
        ""
      ],
      "execution_count": null,
      "outputs": []
    }
  ]
}