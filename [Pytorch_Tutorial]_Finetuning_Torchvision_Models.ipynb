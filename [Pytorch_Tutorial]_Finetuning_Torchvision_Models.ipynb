{
  "nbformat": 4,
  "nbformat_minor": 0,
  "metadata": {
    "colab": {
      "name": "[Pytorch-Tutorial] Finetuning Torchvision Models.ipynb",
      "provenance": [],
      "machine_shape": "hm",
      "authorship_tag": "ABX9TyNElhC+K+lmAOWvL6JoZrKJ",
      "include_colab_link": true
    },
    "kernelspec": {
      "name": "python3",
      "display_name": "Python 3"
    },
    "accelerator": "GPU"
  },
  "cells": [
    {
      "cell_type": "markdown",
      "metadata": {
        "id": "view-in-github",
        "colab_type": "text"
      },
      "source": [
        "<a href=\"https://colab.research.google.com/github/Steve-YJ/Data-Science-scratch/blob/master/%5BPytorch_Tutorial%5D_Finetuning_Torchvision_Models.ipynb\" target=\"_parent\"><img src=\"https://colab.research.google.com/assets/colab-badge.svg\" alt=\"Open In Colab\"/></a>"
      ]
    },
    {
      "cell_type": "markdown",
      "metadata": {
        "id": "FtDKJudyNaG6"
      },
      "source": [
        "# Fine-Tuning Torchvision Models\n",
        "- how to finetune and feature extract the torchvision models, all of which have been pretrained on the 1000-class imagenet dataset\n",
        "- how to work with several modern CNN architectures\n",
        "- build an intuition for fine-tunning any PyTorch model\n",
        "- Since each model architecture is different, there is no boilerplate fine-tunning code that will work in all scenarios\n",
        "- Rather, the researcher must look at the existing architecture and make custom adjustments for each model"
      ]
    },
    {
      "cell_type": "markdown",
      "metadata": {
        "id": "3AX-ZOmfNjAn"
      },
      "source": [
        "## In this document\n",
        "\n",
        "- we'll perform two types of transfer learning\n",
        "    - fine-tuning\n",
        "    - feature extraction\n",
        "- In fine-tuning\n",
        "    - we start with a pre-trained model and update all of the model's parameters for our new task, in essence retraining the whole model\n",
        "- In feature extraction\n",
        "    - we start with a pre-trained model and only update the final layer weights from which we derive predictions.\n",
        "    - It is called feature extraction because we use the pre-trained CNN as a fixed feature-extractor, and only change the output layer"
      ]
    },
    {
      "cell_type": "markdown",
      "metadata": {
        "id": "J3MdSHVYPVPc"
      },
      "source": [
        "✅ Fine-Tune: <br>\n",
        "* re-training the whole model<br>\n",
        "* update all of the model's parameters for our new task\n",
        "\n",
        "✅ Feature Extraction: <br>\n",
        "* start with pre-trained model and only update the final layer weights from which derive predictions<br>\n",
        "* It is called feature extraction because we use the pre-trained CNN as a fixed feature-extrator, only change the output layer\n",
        "\n",
        "In general both transfer learning methods follow the same few steps:\n",
        "\n",
        "- Initialize the pre-trained model\n",
        "- Reshape the final layer(s) to have the same number of outputs as the number of classes in the new dataset\n",
        "- Define for the optimization algorithm which parameters we want to update during training\n",
        "- Run the training step"
      ]
    },
    {
      "cell_type": "code",
      "metadata": {
        "id": "oAkZiZ-2RBxs",
        "outputId": "1746e038-d29d-4f29-eac5-1e6974b749a0",
        "colab": {
          "base_uri": "https://localhost:8080/",
          "height": 35
        }
      },
      "source": [
        "\"\"\"\n",
        "    Just do it!\n",
        "\"\"\""
      ],
      "execution_count": 1,
      "outputs": [
        {
          "output_type": "execute_result",
          "data": {
            "application/vnd.google.colaboratory.intrinsic+json": {
              "type": "string"
            },
            "text/plain": [
              "'\\n    Just do it!\\n'"
            ]
          },
          "metadata": {
            "tags": []
          },
          "execution_count": 1
        }
      ]
    },
    {
      "cell_type": "markdown",
      "metadata": {
        "id": "CZhdAfPHN_90"
      },
      "source": [
        "## Reference\n",
        "* <a ref='https://pytorch.org/tutorials/beginner/finetuning_torchvision_models_tutorial.html'>Pytorch.org - 'Fine-Tuning Torchvision Models'</a>"
      ]
    },
    {
      "cell_type": "code",
      "metadata": {
        "id": "9OAp5bHWcjVS",
        "outputId": "705cf7a8-27dc-4142-eff3-772f5dc5ce5f",
        "colab": {
          "base_uri": "https://localhost:8080/"
        }
      },
      "source": [
        "|from __future__ import print_function\n",
        "from __future__ import division\n",
        "import torch\n",
        "import torch.nn as nn\n",
        "import torch.optim as optim\n",
        "import numpy as np\n",
        "import torchvision\n",
        "from torchvision import datasets, models, transforms\n",
        "import matplotlib.pyplot as plt\n",
        "import time\n",
        "import os\n",
        "import copy\n",
        "print(\"Pytorch Version: \", torch.__version__)\n",
        "print(\"Torchvision Version: \", torchvision.__version__)"
      ],
      "execution_count": null,
      "outputs": [
        {
          "output_type": "stream",
          "text": [
            "Pytorch Version:  1.6.0+cu101\n",
            "Torchvision Version:  0.7.0+cu101\n"
          ],
          "name": "stdout"
        }
      ]
    },
    {
      "cell_type": "markdown",
      "metadata": {
        "id": "WsXqHNOLdsYU"
      },
      "source": [
        "## Inputs"
      ]
    },
    {
      "cell_type": "code",
      "metadata": {
        "id": "Ai4Sv8LId5zD"
      },
      "source": [
        ""
      ],
      "execution_count": null,
      "outputs": []
    }
  ]
}