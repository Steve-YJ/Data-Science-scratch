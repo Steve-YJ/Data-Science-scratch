{
  "nbformat": 4,
  "nbformat_minor": 0,
  "metadata": {
    "colab": {
      "name": "Ch01. 들어가기.ipynb",
      "provenance": [],
      "collapsed_sections": [],
      "authorship_tag": "ABX9TyOQE4RPem4MO/5Pw7tPNSSw",
      "include_colab_link": true
    },
    "kernelspec": {
      "name": "python3",
      "display_name": "Python 3"
    }
  },
  "cells": [
    {
      "cell_type": "markdown",
      "metadata": {
        "id": "view-in-github",
        "colab_type": "text"
      },
      "source": [
        "<a href=\"https://colab.research.google.com/github/Steve-YJ/Data-Science-scratch/blob/master/Ch01_%EB%93%A4%EC%96%B4%EA%B0%80%EA%B8%B0.ipynb\" target=\"_parent\"><img src=\"https://colab.research.google.com/assets/colab-badge.svg\" alt=\"Open In Colab\"/></a>"
      ]
    },
    {
      "cell_type": "markdown",
      "metadata": {
        "id": "DeyS86nNO1ah"
      },
      "source": [
        "# 밑바닥부터 시작하는 데이터 과학 1장 - 들어가기\n",
        "1.1. 데이터 시대의 도래<br>\n",
        "1.2. 데이터 과학이란?<br>\n",
        "1.3. 동기부여를 위한 상상: 데이텀 주식회사"
      ]
    },
    {
      "cell_type": "markdown",
      "metadata": {
        "id": "Huc0A2JBPAyh"
      },
      "source": [
        "## 1.1. 데이터 시대의 도래"
      ]
    },
    {
      "cell_type": "markdown",
      "metadata": {
        "id": "HmMLy89HPJ67"
      },
      "source": [
        "* 우리는 `데이터의 홍수 속`에 살고 있다\n",
        "    * 웹사이트, 스마트폰\n",
        "    * 스마트카, 스마트 홈\n",
        "    * 등...\n",
        "    * 지나치게 많은 데이터는 분석만을 기다리고 있다!\n",
        "* 이렇게 수 많은 `데이터 속`에는 아무도 생각해내지 못했던 `수많은 질문에 대한 답`이 숨어 있다"
      ]
    },
    {
      "cell_type": "markdown",
      "metadata": {
        "id": "DD43L7nRPKEV"
      },
      "source": [
        "## 1.2. 데이터 과학이란?"
      ]
    },
    {
      "cell_type": "markdown",
      "metadata": {
        "id": "_c_7kTvVPL_Z"
      },
      "source": [
        "> 데이터 과학자란 컴퓨터 과학자보다는 통계학을 더 잘 알고 통계학자보다는 컴퓨터 과학을 더 잘 아는 사람이라는 농담이 있다\n",
        "<br>\n",
        "\n",
        "* 통계학자인 데이터 과학자, 소프트웨어 엔지니어와 크게 다르지 않는 데이터 과학자\n",
        "* 몇몇은 대단한 논문 실적을 가지고 있는 박사지만, 논문 한 편 읽어본 적도 없는 사람들 또한 있다(관련 논문을 하나씩 읽어나가는게 중요하다!)(읽을까 말까 할때는 읽어라!)\n",
        "\n",
        "> 그래서 데이터 과학자란 무엇인데?\n",
        "<br>\n",
        "\n",
        "* 우선, 지`저분한 데이터로부터 통찰(insight)`, 즉 `유용한 규칙`을 발견하려는 사람이라고 정의해보자\n",
        "    * 실제로 세상에는 데이터를 인사이트로 바꾸려는 사람들이 한가득이다\n",
        "    * e.g.\n",
        "        * OKCupid - 회원들로부터 얻은 수천 개의 질문에 대한 답을 바탕으로 연인을 매칭해준다\n",
        "        * 페이스북 - (익숙하다) 사용자의 친구들을 쉽게 찾아 연결해준다. 뿐만아니라 데이터를 분석해 국제 이주 패턴을 찾거나 미식축구팀 팬들의 주요 거주 지역을 찾기도 한다\n",
        "        * Target - 부모님도 모르는 딸의 임신을 예측한 사례로 유명하다\n",
        "        * 2012 오바마 대선 캠프 - 데이터 마이닝과 실험을 통해 유권자를 파악하며 기부를 이끌기 위한 선거 캠프를 꾸렸다\n",
        "        * 2016 트럼프 대선 캠프 - 2020년에도 대선 캠프를 꾸리지 않았을까 생각한다\n",
        "    * 이처럼 다양한 사례들이 실제한다. 그리고 사회에 유익한 기여를 할 수 있는 방법이 다양하게 존재한다!\n",
        "\n",
        "\n"
      ]
    },
    {
      "cell_type": "markdown",
      "metadata": {
        "id": "NURsIHjPPMOi"
      },
      "source": [
        "## 1.3. 동기부여를 위한 상상: 데이텀 주식회사"
      ]
    },
    {
      "cell_type": "markdown",
      "metadata": {
        "id": "X7m8qfKfPI8Y"
      },
      "source": [
        "> 축하한다! 여러분은 데이터 과학자들의 최대 소셜 네트워크 '데이텀(Datum)주식회사'의 책임 데이터 과학자로 고용되었다<br>\n",
        "\n",
        "(취업이 힘든 시점에서 잘 됬다!)<br>\n",
        "\n",
        "* About Datum\n",
        "    * 데이터 과학자를 위한 소셜 네트워크임에도 불구하고, 아직 내부 시스템에 데이터 과학을 도입해 보지는 않았다\n",
        "    * 따라서 '`데이터 과학을 도입하는 것'`이 우리의 목표이다\n",
        "    * 업무 중 맞닥뜨리는 몇 가지 문제를 해결하면서 데이터 과학에 관한 개념들을 하나씩 익혀나갈 것이다\n",
        "        * e.g\n",
        "            * 사용자들이 직접 제공한 데이터를 들여다 본다\n",
        "            * 사용자들이 사이트 안에서 돌아다니며 생성한 데이터를 다뤄본다\n",
        "            * 때로는 우리가 직접 설계한 실험에서 나온 데이터를 사용하기도 할 것이다\n",
        "\n",
        "> 데이텀(Datum)에는 '우리가 만든게 아니면 안돼!(not-invented-here)' 정신이 만연하기 때문에 모든 코드를 밑바닥부터 직접 작성할 것이다\n",
        "\n",
        "* 책이 끝났을 쯤에는 데이터 과학을 제법 탄탄하게 이해하고 있을 것이며\n",
        "* 회사 안팎에서 더욱 안정적으로 실력을 발휘할 수 있게 될 것이다\n",
        "* 입사를 진심으로 환영한다! Good Luck!"
      ]
    },
    {
      "cell_type": "markdown",
      "metadata": {
        "id": "7juknufJOxT3"
      },
      "source": [
        "### 1.3.1. 핵심 인물 찾기"
      ]
    },
    {
      "cell_type": "markdown",
      "metadata": {
        "id": "sbFRAU7bUKoS"
      },
      "source": [
        "* 네트워크 사업부 부사장께서 다가오신다\n",
        "\n",
        "> 반갑군요 Steve, 그동안 정말 궁금한게 많았었는데 이제 그러한 궁금증을 해결할 수 있겠어요!\n",
        "(불길한 예감이 든다)<br>\n",
        "\n",
        "* 부사장님께서 특히 궁금해 하는 것은, `데이터 과학의 핵심 인물`이 누구인지 알아내는 것이다\n",
        "* 데이터 과학의 핵심 인물을 알아내기 위해 네트워크 데이터 전체를 넘겨주셨다(실제로 데이터를 이렇게 흔쾌히 넘겨주는 경우는 흔치 않다)"
      ]
    },
    {
      "cell_type": "code",
      "metadata": {
        "id": "NvixGOSJVVOr"
      },
      "source": [
        "# 딕셔너리 형태로 구성된 사용자 명단을 넘겨받았다\n",
        "users = [\n",
        "         {\"id\": 0, \"name\": \"Hero\"},\n",
        "         {\"id\": 1, \"name\": \"Dunn\"},\n",
        "         {\"id\": 2, \"name\": \"Sue\"},\n",
        "         {\"id\": 3, \"name\": \"Chi\"},\n",
        "         {\"id\": 4, \"name\": \"Thor\"},\n",
        "         {\"id\": 5, \"name\": \"Clive\"},\n",
        "         {\"id\": 6, \"name\": \"Hicks\"},\n",
        "         {\"id\": 7, \"name\": \"Devin\"},\n",
        "         {\"id\": 8, \"name\": \"Kate\"},\n",
        "         {\"id\": 9, \"name\": \"Klein\"}\n",
        "]\n",
        "\n",
        "# 그리고 id의 쌍으로 구성된 친구 관계 데이터인 friendship_pairs도 있다\n",
        "friendship_pairs = [(0, 1), (0, 2), (1, 2), (1, 3), (2, 3), (3, 4),\n",
        "                    (4, 5), (5, 6), (5, 7), (6, 8), (7, 8), (8, 9)]  # 예를들어 (0, 1)은 0번 데이터 과학자(Hero)와 1번 데이터 과학자(Dunn)이 서로 친구라는 것을 의미한다"
      ],
      "execution_count": 10,
      "outputs": []
    },
    {
      "cell_type": "markdown",
      "metadata": {
        "id": "vMOL4wQSWcyv"
      },
      "source": [
        "* 친구 관계를 쌍의 리스트로 표현하는 것이 데이텀의 사용자 네트워크를 다루는 가장 쉬운 방법은 아니다\n",
        "    * 가령, 1인 사용자의 친구가 무수히 많다면, 친구를 찾기위해 모든 쌍을 순회하며 1이 포함되어 있는 쌍을 구해야 하는 것이다\n",
        "* 대신, 사용자 id를 키(key)로 하고 해당 사용자의 모든 친구 목록을 값(value)으로 구성한 딕셔너리를 생성해보자(딕셔너리를 통한 데이터 탐색은 매우 빠르다)"
      ]
    },
    {
      "cell_type": "code",
      "metadata": {
        "id": "6MR_ozilXmgv"
      },
      "source": [
        "# 사용자별로 비어 있는 친구 목록 리스트를 지정하여 딕셔너리 초기화\n",
        "friendships = {user[\"id\"]: [] for user in users}  # 사용자 id를 키(key)로 하고 해당 사용자의 모든 친구 목록을 값으로 구성한 딕셔너리 생성\n",
        "\n",
        "\"\"\"\n",
        "# friendship_pairs 내 쌍을 차례대로 살펴보면서 딕셔너리 안에 추가한다\n",
        "for pair in friendship_pairs:\n",
        "    friendships[pair[0]].append(friendship_pairs[pair[1]])  # 서로 친구를 추가해준다\n",
        "    friendships[pair[1]].append(friendship_pairs[pair[0]])\n",
        "\"\"\"\n",
        "\n",
        "\"\"\" 조금 더 효율적인 코드를 작성해보자\"\"\"\n",
        "# friendship_pairs 내 쌍을 차례대로 살펴보면서 딕셔너리 안에 추가한다\n",
        "for i, j in friendship_pairs:\n",
        "    friendships[i].append(j)\n",
        "    friendships[j].append(i)"
      ],
      "execution_count": 17,
      "outputs": []
    },
    {
      "cell_type": "code",
      "metadata": {
        "colab": {
          "base_uri": "https://localhost:8080/"
        },
        "id": "W7Yuq2FlYlRq",
        "outputId": "b5476670-70c9-474b-c851-ffe0829fda27"
      },
      "source": [
        "friendships"
      ],
      "execution_count": 18,
      "outputs": [
        {
          "output_type": "execute_result",
          "data": {
            "text/plain": [
              "{0: [(0, 2), (1, 2)],\n",
              " 1: [(0, 1), (1, 2), (1, 3)],\n",
              " 2: [(0, 1), (0, 2), (1, 3)],\n",
              " 3: [(0, 2), (1, 2), (2, 3)],\n",
              " 4: [(1, 3), (3, 4)],\n",
              " 5: [(2, 3), (4, 5), (5, 6)],\n",
              " 6: [(3, 4), (5, 7)],\n",
              " 7: [(3, 4), (5, 7)],\n",
              " 8: [(4, 5), (5, 6), (6, 8)],\n",
              " 9: [(5, 7)]}"
            ]
          },
          "metadata": {
            "tags": []
          },
          "execution_count": 18
        }
      ]
    },
    {
      "cell_type": "markdown",
      "metadata": {
        "id": "gylkFWWJYoWH"
      },
      "source": [
        "> 이렇게 각 사용자의 친구 목록을 딕셔너리로 만들면 '네트워크상에서 각 사용자의 평균 연결 수는 몇 개인가'?와 같은 네트워크의 특성에 관한 질문에 답할 수 있다"
      ]
    },
    {
      "cell_type": "markdown",
      "metadata": {
        "id": "B48Bjv7eY-Uw"
      },
      "source": [
        "* `'네트워크상에서 사용자의 평균 연결 수'`를 찾기 위해 우선 friendships 안 모든 리스트의 길이를 더해 총 연결 수를 구해보자"
      ]
    },
    {
      "cell_type": "code",
      "metadata": {
        "colab": {
          "base_uri": "https://localhost:8080/"
        },
        "id": "Fq5nj57lZJ57",
        "outputId": "5d2b3454-0de4-4ed4-9136-38cc0b28ab16"
      },
      "source": [
        "def num_of_friends(user):\n",
        "    \"\"\"user의 친구는 몇 명일까?\"\"\"\n",
        "    user_id = user[\"id\"]\n",
        "    friend_ids = friendships[user_id]\n",
        "    return len(friend_ids)\n",
        "\n",
        "total_connections =sum(num_of_friends(user) for user in users)\n",
        "print(\"total_connections: \")\n",
        "print(total_connections)\n",
        "print(\"\")\n",
        "print(\"avg_connections: \")\n",
        "print(total_connections / len(users))"
      ],
      "execution_count": 4,
      "outputs": [
        {
          "output_type": "stream",
          "text": [
            "total_connections: \n",
            "24\n",
            "\n",
            "avg_connections: \n",
            "2.4\n"
          ],
          "name": "stdout"
        }
      ]
    },
    {
      "cell_type": "code",
      "metadata": {
        "colab": {
          "base_uri": "https://localhost:8080/"
        },
        "id": "5U5PlwHXTHV7",
        "outputId": "f85f92e0-8575-44a7-afd7-0abc1aa6bf13"
      },
      "source": [
        "# Review, Do-it\n",
        "\n",
        "len_all = 0\n",
        "\n",
        "for id in friendships:\n",
        "    len_all += len(friendships[id])\n",
        "\n",
        "print(len_all)\n",
        "print(len_all/len(friendships))"
      ],
      "execution_count": 32,
      "outputs": [
        {
          "output_type": "stream",
          "text": [
            "24\n",
            "2.4\n"
          ],
          "name": "stdout"
        }
      ]
    },
    {
      "cell_type": "markdown",
      "metadata": {
        "id": "YxCf2p7nZKLL"
      },
      "source": [
        "다음으로 연결 수가 가장 많은 사람, 즉 친구가 가장 많은 사람이 누구인지 알아보자"
      ]
    },
    {
      "cell_type": "code",
      "metadata": {
        "colab": {
          "base_uri": "https://localhost:8080/"
        },
        "id": "n1pqJR_FaY8D",
        "outputId": "f876d4fc-9195-4212-b2ac-e89c2aa183d3"
      },
      "source": [
        "friendships"
      ],
      "execution_count": 5,
      "outputs": [
        {
          "output_type": "execute_result",
          "data": {
            "text/plain": [
              "{0: [1, 2],\n",
              " 1: [0, 2, 3],\n",
              " 2: [0, 1, 3],\n",
              " 3: [1, 2, 4],\n",
              " 4: [3, 5],\n",
              " 5: [4, 6, 7],\n",
              " 6: [5, 8],\n",
              " 7: [5, 8],\n",
              " 8: [6, 7, 9],\n",
              " 9: [8]}"
            ]
          },
          "metadata": {
            "tags": []
          },
          "execution_count": 5
        }
      ]
    },
    {
      "cell_type": "markdown",
      "metadata": {
        "id": "qiZQuSr2a5Nx"
      },
      "source": [
        "> '친구가 제일 많은 사람'부터 '제일 적은 사람'순으로 사용자를 정렬해보자"
      ]
    },
    {
      "cell_type": "code",
      "metadata": {
        "colab": {
          "base_uri": "https://localhost:8080/"
        },
        "id": "W1jbQ7OwZKN7",
        "outputId": "3e915dfb-f746-4238-dd2c-ba261aa71384"
      },
      "source": [
        "num_friends_by_id = [(user[\"id\"], num_of_friends(user)) for user in users]\n",
        "print(num_friends_by_id)"
      ],
      "execution_count": 6,
      "outputs": [
        {
          "output_type": "stream",
          "text": [
            "[(0, 2), (1, 3), (2, 3), (3, 3), (4, 2), (5, 3), (6, 2), (7, 2), (8, 3), (9, 1)]\n"
          ],
          "name": "stdout"
        }
      ]
    },
    {
      "cell_type": "code",
      "metadata": {
        "id": "-iRcDY2mZKRE"
      },
      "source": [
        "num_friends_by_id.sort(key=lambda id_and_friends: id_and_friends[1],\n",
        "                       reverse=True)"
      ],
      "execution_count": 7,
      "outputs": []
    },
    {
      "cell_type": "code",
      "metadata": {
        "colab": {
          "base_uri": "https://localhost:8080/"
        },
        "id": "oYepgqZxb-N5",
        "outputId": "2aa20d6d-b5ed-4243-f879-cbfc1462c1c4"
      },
      "source": [
        "print(num_friends_by_id)"
      ],
      "execution_count": 8,
      "outputs": [
        {
          "output_type": "stream",
          "text": [
            "[(1, 3), (2, 3), (3, 3), (5, 3), (8, 3), (0, 2), (4, 2), (6, 2), (7, 2), (9, 1)]\n"
          ],
          "name": "stdout"
        }
      ]
    },
    {
      "cell_type": "markdown",
      "metadata": {
        "id": "SOo65VoYcD5o"
      },
      "source": [
        "> 알고리즘을 공부하면서... 코드가 많이 늘었나보다... 전에는 코드의 이해가 잘 가지 않았었는데... 이제는 학습이 가능한 수준은 된 것같다! -20.12.26. sat am 00:08-"
      ]
    },
    {
      "cell_type": "code",
      "metadata": {
        "id": "i7j9EJLHcdIP",
        "colab": {
          "base_uri": "https://localhost:8080/"
        },
        "outputId": "2399853f-638a-4f79-e305-883512b3da5e"
      },
      "source": [
        "users"
      ],
      "execution_count": 26,
      "outputs": [
        {
          "output_type": "execute_result",
          "data": {
            "text/plain": [
              "[{'id': 0, 'name': 'Hero'},\n",
              " {'id': 1, 'name': 'Dunn'},\n",
              " {'id': 2, 'name': 'Sue'},\n",
              " {'id': 3, 'name': 'Chi'},\n",
              " {'id': 4, 'name': 'Thor'},\n",
              " {'id': 5, 'name': 'Clive'},\n",
              " {'id': 6, 'name': 'Hicks'},\n",
              " {'id': 7, 'name': 'Devin'},\n",
              " {'id': 8, 'name': 'Kate'},\n",
              " {'id': 9, 'name': 'Klein'}]"
            ]
          },
          "metadata": {
            "tags": []
          },
          "execution_count": 26
        }
      ]
    },
    {
      "cell_type": "code",
      "metadata": {
        "colab": {
          "base_uri": "https://localhost:8080/"
        },
        "id": "hnpmAAbcVoUu",
        "outputId": "32e1f8c6-e52e-4336-f811-cbec59dceaaf"
      },
      "source": [
        "# refactoring\n",
        "\n",
        "num_friends_by_id = [(user, len(friendships[user])) for user in friendships]\n",
        "print(num_friends_by_id)\n",
        "sort_id_by_num_friends = sorted(num_friends_by_id, key=lambda x: x[1], reverse=True)\n",
        "print(sort_id_by_num_friends)"
      ],
      "execution_count": 31,
      "outputs": [
        {
          "output_type": "stream",
          "text": [
            "[(0, 2), (1, 3), (2, 3), (3, 3), (4, 2), (5, 3), (6, 2), (7, 2), (8, 3), (9, 1)]\n",
            "[(1, 3), (2, 3), (3, 3), (5, 3), (8, 3), (0, 2), (4, 2), (6, 2), (7, 2), (9, 1)]\n"
          ],
          "name": "stdout"
        }
      ]
    },
    {
      "cell_type": "markdown",
      "metadata": {
        "id": "49yV_faVV_xl"
      },
      "source": [
        "친구의 수가 가장 많은 순서대로 정렬"
      ]
    },
    {
      "cell_type": "markdown",
      "metadata": {
        "id": "oCiSUf6JV-Gx"
      },
      "source": [
        "✅ 이어서 학습을 진행해보자"
      ]
    },
    {
      "cell_type": "markdown",
      "metadata": {
        "id": "2wzX-Qw7X7Mq"
      },
      "source": [
        "> 앞서 우리는 네트워크에서 중심 역할을 하는 사람들을 찾아냈다. 실제로 우리가 방금 계산한 것을 네트워크 용어로는 연결 중심성(degree centrality)라고 부른다 "
      ]
    },
    {
      "cell_type": "markdown",
      "metadata": {
        "id": "RNTl6-ozYH5-"
      },
      "source": [
        "* 연결 중심성(degree centrality)는 계산하기 쉽다는 장점이 있지만, 항상 기대하는 결과를 가져다 주지는 않는다\n",
        "* 예를 들어 데이텀 네트워크를 살펴보면, 1번 id는 세 개의 연결을 갖고 있지만 id 4는 두 개의 연결 고리 밖에 갖고 있지 않다. 하지만 id 4는 네트워크 상에서 가운데 위치하여 더 중심적인 역할을 하는 것처럼 보인다\n",
        "* 네트워크와 관련된 내용은 22장 '네트워크 분석'에서 심층적으로 알아보도록 한다 "
      ]
    },
    {
      "cell_type": "code",
      "metadata": {
        "id": "Xqo3WASkYo1C"
      },
      "source": [
        ""
      ],
      "execution_count": null,
      "outputs": []
    }
  ]
}