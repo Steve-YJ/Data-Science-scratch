{
  "nbformat": 4,
  "nbformat_minor": 0,
  "metadata": {
    "colab": {
      "name": "A note on python/numpy vectors.ipynb",
      "provenance": [],
      "authorship_tag": "ABX9TyOqcuQeIxLKdN7ow4KTRaNr",
      "include_colab_link": true
    },
    "kernelspec": {
      "name": "python3",
      "display_name": "Python 3"
    }
  },
  "cells": [
    {
      "cell_type": "markdown",
      "metadata": {
        "id": "view-in-github",
        "colab_type": "text"
      },
      "source": [
        "<a href=\"https://colab.research.google.com/github/Steve-YJ/Data-Science-scratch/blob/master/A_note_on_python_numpy_vectors.ipynb\" target=\"_parent\"><img src=\"https://colab.research.google.com/assets/colab-badge.svg\" alt=\"Open In Colab\"/></a>"
      ]
    },
    {
      "cell_type": "markdown",
      "metadata": {
        "id": "Euxy_tP-UjNi"
      },
      "source": [
        "# Python-Numpy vectors"
      ]
    },
    {
      "cell_type": "code",
      "metadata": {
        "id": "LZn1vtJjUgL3"
      },
      "source": [
        "import numpy as np\n",
        "\n",
        "a = np.random.randn(5)"
      ],
      "execution_count": 4,
      "outputs": []
    },
    {
      "cell_type": "code",
      "metadata": {
        "id": "5MBh7UFwUqef",
        "outputId": "c95a4e8e-93db-45a8-cff5-87f7c2dc9143",
        "colab": {
          "base_uri": "https://localhost:8080/"
        }
      },
      "source": [
        "print(a)"
      ],
      "execution_count": 5,
      "outputs": [
        {
          "output_type": "stream",
          "text": [
            "[-0.28805695  0.06451027  1.14206386 -0.73870495  0.85652713]\n"
          ],
          "name": "stdout"
        }
      ]
    },
    {
      "cell_type": "code",
      "metadata": {
        "id": "nS5Wa923Uq_z",
        "outputId": "a764f3f9-a6d6-4e20-e97c-bbb310355c13",
        "colab": {
          "base_uri": "https://localhost:8080/"
        }
      },
      "source": [
        "print(a.shape)  # row vector"
      ],
      "execution_count": 7,
      "outputs": [
        {
          "output_type": "stream",
          "text": [
            "(5,)\n"
          ],
          "name": "stdout"
        }
      ]
    },
    {
      "cell_type": "code",
      "metadata": {
        "id": "oLMbH1slUxGe",
        "outputId": "4fc7a87b-df3e-484b-8221-22b62c8e8269",
        "colab": {
          "base_uri": "https://localhost:8080/"
        }
      },
      "source": [
        "print(a.T)"
      ],
      "execution_count": 8,
      "outputs": [
        {
          "output_type": "stream",
          "text": [
            "[-0.28805695  0.06451027  1.14206386 -0.73870495  0.85652713]\n"
          ],
          "name": "stdout"
        }
      ]
    },
    {
      "cell_type": "code",
      "metadata": {
        "id": "L4O2oAEbU1qL",
        "outputId": "ec7a488f-442c-46db-f641-1df1a9ef492b",
        "colab": {
          "base_uri": "https://localhost:8080/"
        }
      },
      "source": [
        "print(np.dot(a, a.T))"
      ],
      "execution_count": 9,
      "outputs": [
        {
          "output_type": "stream",
          "text": [
            "2.6707719779140584\n"
          ],
          "name": "stdout"
        }
      ]
    },
    {
      "cell_type": "markdown",
      "metadata": {
        "id": "6faoLgg7U8Yv"
      },
      "source": [
        "a dot a.T get back a number... Why?! -20.11.02.Mon.pm6:40-"
      ]
    },
    {
      "cell_type": "code",
      "metadata": {
        "id": "KYX9k_UbU6nx",
        "outputId": "cdd3311f-d158-49ea-fb49-8dc35442ff0b",
        "colab": {
          "base_uri": "https://localhost:8080/"
        }
      },
      "source": [
        "a = np.random.randn(5, 1)\n",
        "print(a)"
      ],
      "execution_count": 11,
      "outputs": [
        {
          "output_type": "stream",
          "text": [
            "[[-1.38295489]\n",
            " [ 1.54524965]\n",
            " [ 0.68794602]\n",
            " [ 1.03365885]\n",
            " [-0.13903463]]\n"
          ],
          "name": "stdout"
        }
      ]
    },
    {
      "cell_type": "code",
      "metadata": {
        "id": "AeltDKulVJQb",
        "outputId": "44f1d4d3-9a39-40a9-a7b0-7add80434438",
        "colab": {
          "base_uri": "https://localhost:8080/"
        }
      },
      "source": [
        "print(a.T)"
      ],
      "execution_count": 12,
      "outputs": [
        {
          "output_type": "stream",
          "text": [
            "[[-1.38295489  1.54524965  0.68794602  1.03365885 -0.13903463]]\n"
          ],
          "name": "stdout"
        }
      ]
    },
    {
      "cell_type": "markdown",
      "metadata": {
        "id": "sfDUk1CCVO5O"
      },
      "source": [
        "1 by 5 Matrix instead"
      ]
    },
    {
      "cell_type": "code",
      "metadata": {
        "id": "qCa3cu-AVLzU",
        "outputId": "fa52c5d2-3780-4b17-9ecc-05ba16f3c31e",
        "colab": {
          "base_uri": "https://localhost:8080/"
        }
      },
      "source": [
        "# So...\n",
        "\n",
        "np.dot(a, a.T)"
      ],
      "execution_count": 13,
      "outputs": [
        {
          "output_type": "execute_result",
          "data": {
            "text/plain": [
              "array([[ 1.91256423, -2.13701056, -0.95139832, -1.42950357,  0.19227862],\n",
              "       [-2.13701056,  2.38779647,  1.06304835,  1.59726098, -0.21484321],\n",
              "       [-0.95139832,  1.06304835,  0.47326973,  0.7111015 , -0.09564832],\n",
              "       [-1.42950357,  1.59726098,  0.7111015 ,  1.06845063, -0.14371437],\n",
              "       [ 0.19227862, -0.21484321, -0.09564832, -0.14371437,  0.01933063]])"
            ]
          },
          "metadata": {
            "tags": []
          },
          "execution_count": 13
        }
      ]
    },
    {
      "cell_type": "code",
      "metadata": {
        "id": "FNzPn--MVToR"
      },
      "source": [
        "assert(a.shape == (5, 1))"
      ],
      "execution_count": 14,
      "outputs": []
    },
    {
      "cell_type": "code",
      "metadata": {
        "id": "q-JXDd7WVwn2"
      },
      "source": [
        ""
      ],
      "execution_count": null,
      "outputs": []
    }
  ]
}