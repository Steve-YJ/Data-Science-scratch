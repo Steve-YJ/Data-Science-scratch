{
  "nbformat": 4,
  "nbformat_minor": 0,
  "metadata": {
    "colab": {
      "name": "Week2. Vectorization.ipynb",
      "provenance": [],
      "authorship_tag": "ABX9TyPOuT68zBKYDytNw0siPMip",
      "include_colab_link": true
    },
    "kernelspec": {
      "name": "python3",
      "display_name": "Python 3"
    }
  },
  "cells": [
    {
      "cell_type": "markdown",
      "metadata": {
        "id": "view-in-github",
        "colab_type": "text"
      },
      "source": [
        "<a href=\"https://colab.research.google.com/github/Steve-YJ/Data-Science-scratch/blob/master/Week2_Vectorization.ipynb\" target=\"_parent\"><img src=\"https://colab.research.google.com/assets/colab-badge.svg\" alt=\"Open In Colab\"/></a>"
      ]
    },
    {
      "cell_type": "markdown",
      "metadata": {
        "id": "4OaL3qmDVBq0"
      },
      "source": [
        "# The power of vectorization!\n",
        "* Reference: Deep Learning Specialization by Andrew Ng in Coursera"
      ]
    },
    {
      "cell_type": "code",
      "metadata": {
        "id": "d-YCT-Y4U4_n",
        "outputId": "f38f606b-36a6-49c3-8748-7b041fa8aa2d",
        "colab": {
          "base_uri": "https://localhost:8080/"
        }
      },
      "source": [
        "import numpy as np\n",
        "\n",
        "a= np.array([1, 2, 3, 4])\n",
        "print(a)"
      ],
      "execution_count": 1,
      "outputs": [
        {
          "output_type": "stream",
          "text": [
            "[1 2 3 4]\n"
          ],
          "name": "stdout"
        }
      ]
    },
    {
      "cell_type": "code",
      "metadata": {
        "id": "nrJsJ7VgVNlj",
        "outputId": "21254d6a-eb0f-40bc-d459-32cdef77746f",
        "colab": {
          "base_uri": "https://localhost:8080/"
        }
      },
      "source": [
        "import time\n",
        "\n",
        "a = np.random.rand(1000000)\n",
        "b = np.random.rand(1000000)\n",
        "\n",
        "tic = time.time()\n",
        "c = np.dot(a, b)\n",
        "toc = time.time()\n",
        "\n",
        "print(c)\n",
        "print(\"Vectorized version: \" + str(1000*(toc-tic)) +\"ms\")\n",
        "\n",
        "c = 0\n",
        "tic = time.time()\n",
        "for i in range(1000000):\n",
        "    c += a[i] + b[i]\n",
        "toc = time.time()\n",
        "\n",
        "print(c)\n",
        "print(\"For loop: \" + str(1000*(toc-tic)) + \"ms\")"
      ],
      "execution_count": 16,
      "outputs": [
        {
          "output_type": "stream",
          "text": [
            "250385.49348815708\n",
            "Vectorized version: 1.4650821685791016ms\n",
            "1000661.2132783365\n",
            "For loop: 644.7999477386475ms\n"
          ],
          "name": "stdout"
        }
      ]
    },
    {
      "cell_type": "markdown",
      "metadata": {
        "id": "GaQ6DbnyV-_f"
      },
      "source": [
        "vectorized code는 1.4ms가 걸렸다면 Non-vectorized code는 600배 가까운 시간이 더 소요되었다"
      ]
    },
    {
      "cell_type": "code",
      "metadata": {
        "id": "mzOI1By9Vew-"
      },
      "source": [
        ""
      ],
      "execution_count": null,
      "outputs": []
    }
  ]
}