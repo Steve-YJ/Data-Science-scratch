{
  "nbformat": 4,
  "nbformat_minor": 0,
  "metadata": {
    "colab": {
      "name": "Week2. Vectorization.ipynb",
      "provenance": [],
      "authorship_tag": "ABX9TyMo/azA4DLZqC8vth4m0q8G",
      "include_colab_link": true
    },
    "kernelspec": {
      "name": "python3",
      "display_name": "Python 3"
    }
  },
  "cells": [
    {
      "cell_type": "markdown",
      "metadata": {
        "id": "view-in-github",
        "colab_type": "text"
      },
      "source": [
        "<a href=\"https://colab.research.google.com/github/Steve-YJ/Data-Science-scratch/blob/master/Week2_Vectorization.ipynb\" target=\"_parent\"><img src=\"https://colab.research.google.com/assets/colab-badge.svg\" alt=\"Open In Colab\"/></a>"
      ]
    },
    {
      "cell_type": "markdown",
      "metadata": {
        "id": "4OaL3qmDVBq0"
      },
      "source": [
        "# The power of vectorization!\n",
        "* Reference: Deep Learning Specialization by Andrew Ng in Coursera"
      ]
    },
    {
      "cell_type": "code",
      "metadata": {
        "id": "d-YCT-Y4U4_n",
        "outputId": "f38f606b-36a6-49c3-8748-7b041fa8aa2d",
        "colab": {
          "base_uri": "https://localhost:8080/"
        }
      },
      "source": [
        "import numpy as np\n",
        "\n",
        "a= np.array([1, 2, 3, 4])\n",
        "print(a)"
      ],
      "execution_count": 1,
      "outputs": [
        {
          "output_type": "stream",
          "text": [
            "[1 2 3 4]\n"
          ],
          "name": "stdout"
        }
      ]
    },
    {
      "cell_type": "code",
      "metadata": {
        "id": "nrJsJ7VgVNlj",
        "outputId": "83c52300-bb3c-4aa9-c999-68a8e590f135",
        "colab": {
          "base_uri": "https://localhost:8080/"
        }
      },
      "source": [
        "import time\n",
        "\n",
        "a = np.random.rand(1000000)\n",
        "b = np.random.rand(1000000)\n",
        "\n",
        "tic = time.time()\n",
        "c = np.dot(a, b)\n",
        "toc = time.time()\n",
        "\n",
        "print(c)\n",
        "print(\"Vectorized version: \" + str(1000*(toc-tic)) +\"ms\")\n",
        "\n",
        "c = 0\n",
        "tic = time.time()\n",
        "for i in range(1000000):\n",
        "    c += a[i] * b[i]\n",
        "toc = time.time()\n",
        "\n",
        "print(c)\n",
        "print(\"For loop: \" + str(1000*(toc-tic)) + \"ms\")"
      ],
      "execution_count": 23,
      "outputs": [
        {
          "output_type": "stream",
          "text": [
            "249702.11455277636\n",
            "Vectorized version: 2.323627471923828ms\n",
            "249702.11455277848\n",
            "For loop: 611.0544204711914ms\n"
          ],
          "name": "stdout"
        }
      ]
    },
    {
      "cell_type": "markdown",
      "metadata": {
        "id": "GaQ6DbnyV-_f"
      },
      "source": [
        "vectorized code는 1.4ms가 걸렸다면 Non-vectorized code는 600배 가까운 시간이 더 소요되었다"
      ]
    },
    {
      "cell_type": "code",
      "metadata": {
        "id": "mzOI1By9Vew-",
        "outputId": "7c28d83e-76c6-47fe-8747-f754dd19a9de",
        "colab": {
          "base_uri": "https://localhost:8080/"
        }
      },
      "source": [
        "import time\n",
        "\n",
        "a = np.random.rand(1000000)\n",
        "b = np.random.rand(1000000)\n",
        "\n",
        "tic = time.time()\n",
        "c = np.dot(a, b)\n",
        "toc = time.time()\n",
        "\n",
        "print(c)\n",
        "print(\"Vectorized version: \" + str(1000*(toc-tic)) + \"ms\")"
      ],
      "execution_count": 17,
      "outputs": [
        {
          "output_type": "stream",
          "text": [
            "249980.63922786526\n",
            "Vectorized version: 1.6293525695800781ms\n"
          ],
          "name": "stdout"
        }
      ]
    },
    {
      "cell_type": "code",
      "metadata": {
        "id": "aTsbHKZwAFQ6",
        "outputId": "93572b90-8dde-4684-e50e-8b33c99e46d1",
        "colab": {
          "base_uri": "https://localhost:8080/"
        }
      },
      "source": [
        "import time\n",
        "\n",
        "a = np.random.rand(1000000)\n",
        "b = np.random.rand(1000000)\n",
        "\n",
        "tic = time.time()\n",
        "c = np.dot(a, b)\n",
        "toc = time.time()\n",
        "\n",
        "print(c)\n",
        "print(\"Vectorized version: \" + str(1000*(toc-tic)) + \"ms\")\n",
        "\n",
        "c = 0\n",
        "tic = time.time()\n",
        "# print(len(a))\n",
        "for i in range(len(a)):\n",
        "    c += a[i] * b[i]\n",
        "toc = time.time()\n",
        "\n",
        "print(c)\n",
        "print(\"Non-vectorized version: \" + str(1000*(toc-tic)) + \"ms\")        "
      ],
      "execution_count": 22,
      "outputs": [
        {
          "output_type": "stream",
          "text": [
            "249830.51192398893\n",
            "Vectorized version: 1.6965866088867188ms\n",
            "249830.51192398986\n",
            "Non-vectorized version: 678.1039237976074ms\n"
          ],
          "name": "stdout"
        }
      ]
    },
    {
      "cell_type": "code",
      "metadata": {
        "id": "0oUZmt7VAxiZ"
      },
      "source": [
        ""
      ],
      "execution_count": null,
      "outputs": []
    }
  ]
}