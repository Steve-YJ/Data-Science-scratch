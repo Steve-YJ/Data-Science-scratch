{
  "nbformat": 4,
  "nbformat_minor": 0,
  "metadata": {
    "colab": {
      "name": "Chap01. 들어가기.ipynb",
      "provenance": [],
      "authorship_tag": "ABX9TyMcys9rgy9DvoOkvd73aZPG",
      "include_colab_link": true
    },
    "kernelspec": {
      "name": "python3",
      "display_name": "Python 3"
    }
  },
  "cells": [
    {
      "cell_type": "markdown",
      "metadata": {
        "id": "view-in-github",
        "colab_type": "text"
      },
      "source": [
        "<a href=\"https://colab.research.google.com/github/Steve-YJ/Data-Science-scratch/blob/master/Chap01_%EB%93%A4%EC%96%B4%EA%B0%80%EA%B8%B0.ipynb\" target=\"_parent\"><img src=\"https://colab.research.google.com/assets/colab-badge.svg\" alt=\"Open In Colab\"/></a>"
      ]
    },
    {
      "cell_type": "markdown",
      "metadata": {
        "id": "8hpB7FhQIxxa"
      },
      "source": [
        "## 1.3 동기부여를 위한 상상. 데이텀 주식회사\n",
        "* 데이텀 주식회사의 데이터 과학자로 입사하게 되었다\n",
        "* 실제 업무에서 마주치는 문제를 데이터 과학으로 해결해보자!"
      ]
    },
    {
      "cell_type": "markdown",
      "metadata": {
        "id": "QJxQAprmJCmt"
      },
      "source": [
        "먼저 딕셔너리 형태로 구성된 사용자 명단을 네트워크 사업부로부터 전달받았다"
      ]
    },
    {
      "cell_type": "code",
      "metadata": {
        "id": "L-ayz5KDIr1z"
      },
      "source": [
        "users = [\n",
        "         {\"id\": 0, \"name\": \"Hero\"},\n",
        "         {\"id\": 1, \"name\": \"Dunn\"},\n",
        "         {\"id\": 2, \"name\": \"Sue\"},\n",
        "         {\"id\": 3, \"name\": \"Chi\"},\n",
        "         {\"id\": 4, \"name\": \"Thor\"},\n",
        "         {\"id\": 5, \"name\": \"Clive\"},\n",
        "         {\"id\": 6, \"name\": \"Hicks\"},\n",
        "         {\"id\": 7, \"name\": \"Devin\"},\n",
        "         {\"id\": 8, \"name\": \"Kate\"},\n",
        "         {\"id\": 9, \"name\": \"Klein\"},\n",
        "]"
      ],
      "execution_count": 1,
      "outputs": []
    },
    {
      "cell_type": "markdown",
      "metadata": {
        "id": "FXhgroijKHgd"
      },
      "source": [
        "그리고 id의 쌍으로 구성된 친구 관계 데이터인 friendship_pair도 있다"
      ]
    },
    {
      "cell_type": "code",
      "metadata": {
        "id": "XegUEXpbJ93S"
      },
      "source": [
        "friendship_pairs = [(0, 1), (0, 2), (1, 2), (1, 3), (2, 3), (3, 4),\n",
        "                   (4, 5), (5, 6), (5, 7), (6, 8), (7, 8), (8, 9)]"
      ],
      "execution_count": 2,
      "outputs": []
    },
    {
      "cell_type": "code",
      "metadata": {
        "id": "rFmTDNZQKknp"
      },
      "source": [
        "# 사용자별로 비어 있는 친구 목록 리스트를 지정하여 딕셔너리 초기화\n",
        "friendships = {user[\"id\"]: [] for user in users}\n",
        "\n",
        "# friendship_pairs 내 쌍을 차례대로 살펴보면서 딕셔너리 안에 추가\n",
        "for i, j in friendship_pairs:\n",
        "    friendships[i].append(j)  # j를 사용자 i의 친구로 추가\n",
        "    friendships[j].append(i)  # i를 사용자 j의 친구로 추가"
      ],
      "execution_count": 3,
      "outputs": []
    },
    {
      "cell_type": "code",
      "metadata": {
        "id": "OSvHy5ngL2k-",
        "outputId": "2615e8a1-1030-4869-e548-f37500ae4638",
        "colab": {
          "base_uri": "https://localhost:8080/"
        }
      },
      "source": [
        "friendships"
      ],
      "execution_count": 4,
      "outputs": [
        {
          "output_type": "execute_result",
          "data": {
            "text/plain": [
              "{0: [1, 2],\n",
              " 1: [0, 2, 3],\n",
              " 2: [0, 1, 3],\n",
              " 3: [1, 2, 4],\n",
              " 4: [3, 5],\n",
              " 5: [4, 6, 7],\n",
              " 6: [5, 8],\n",
              " 7: [5, 8],\n",
              " 8: [6, 7, 9],\n",
              " 9: [8]}"
            ]
          },
          "metadata": {
            "tags": []
          },
          "execution_count": 4
        }
      ]
    },
    {
      "cell_type": "markdown",
      "metadata": {
        "id": "wk_UAgbzL_B6"
      },
      "source": [
        "이렇게 각 사용자의 친구 목록을 딕셔너리로 만들면 '네트워크상에서 각 사용자의 평균 연결 수는 몇 개인가?'와 같이 네트워크 특성에 관한 질문에 답할 수 있다.<br>\n",
        "이 질문에 답하기 위해 먼저 friendships 안 모든 리스트의 길이를 더해서 총 연결 수를 구해보자"
      ]
    },
    {
      "cell_type": "code",
      "metadata": {
        "id": "mraWCs7MN4HD"
      },
      "source": [
        "def number_of_friends(user):\n",
        "    \"\"\"user의 친구는 몇 명일까?\"\"\"\n",
        "    user_id = user[\"id\"]  # user_id\n",
        "    friend_ids = friendships[user_id]\n",
        "    return len(friend_ids)"
      ],
      "execution_count": 11,
      "outputs": []
    },
    {
      "cell_type": "code",
      "metadata": {
        "id": "HuohtdsWOVTq"
      },
      "source": [
        "total_connections = sum(number_of_friends(user) for user in users)  # 24"
      ],
      "execution_count": 13,
      "outputs": []
    },
    {
      "cell_type": "markdown",
      "metadata": {
        "id": "xtsZkl48OfuC"
      },
      "source": [
        "이제 단순히 이 합을 사용자의 수로 나누면 된다"
      ]
    },
    {
      "cell_type": "code",
      "metadata": {
        "id": "ebIia0SIOic9"
      },
      "source": [
        "num_users = len(users)\n",
        "avg_connections = total_connections / num_users  # 24 / 10 == 2.4"
      ],
      "execution_count": 14,
      "outputs": []
    },
    {
      "cell_type": "markdown",
      "metadata": {
        "id": "pPLAyW6KOr16"
      },
      "source": [
        "다음으로 연결 수가 가장 많은 사람, 즉 친구가 가장 많은 사람이 누군지 알아보자.<br>\n",
        "사용자의 수가 많지 않으므로 '친구가 제일 많은 사람'부터 '제일 적은 사람'순으로 사용자를 정렬해보자자\n"
      ]
    },
    {
      "cell_type": "code",
      "metadata": {
        "id": "sCYdH91RO3U-"
      },
      "source": [
        "num_friends_by_id = [(user[\"id\"], number_of_friends(user)) for user in users]"
      ],
      "execution_count": 23,
      "outputs": []
    },
    {
      "cell_type": "code",
      "metadata": {
        "id": "7IHSSWQqOdVA",
        "outputId": "977286dd-1964-4201-b710-da3d5a206e55",
        "colab": {
          "base_uri": "https://localhost:8080/"
        }
      },
      "source": [
        "sorted(num_friends_by_id, key=lambda t: t[1], reverse=True)"
      ],
      "execution_count": 24,
      "outputs": [
        {
          "output_type": "execute_result",
          "data": {
            "text/plain": [
              "[(1, 3),\n",
              " (2, 3),\n",
              " (3, 3),\n",
              " (5, 3),\n",
              " (8, 3),\n",
              " (0, 2),\n",
              " (4, 2),\n",
              " (6, 2),\n",
              " (7, 2),\n",
              " (9, 1)]"
            ]
          },
          "metadata": {
            "tags": []
          },
          "execution_count": 24
        }
      ]
    },
    {
      "cell_type": "code",
      "metadata": {
        "id": "lH8zcY4EMjZO",
        "outputId": "297a0127-cedd-4e57-bd8b-a072f76879ec",
        "colab": {
          "base_uri": "https://localhost:8080/"
        }
      },
      "source": [
        "len(friendships)"
      ],
      "execution_count": 5,
      "outputs": [
        {
          "output_type": "execute_result",
          "data": {
            "text/plain": [
              "10"
            ]
          },
          "metadata": {
            "tags": []
          },
          "execution_count": 5
        }
      ]
    },
    {
      "cell_type": "markdown",
      "metadata": {
        "id": "Fsh10_AsSAVZ"
      },
      "source": [
        "밑바닥부터 구현하는 거라 조금 어렵고 시간도 많이 걸리지만 아직까진 할만하고 생각보다 재밌다ㅎㅎ -20.11.08.Sun. pm11:30-"
      ]
    },
    {
      "cell_type": "code",
      "metadata": {
        "id": "W2mb0xrQSIWy"
      },
      "source": [
        ""
      ],
      "execution_count": null,
      "outputs": []
    }
  ]
}