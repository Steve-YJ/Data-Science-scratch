{
  "nbformat": 4,
  "nbformat_minor": 0,
  "metadata": {
    "colab": {
      "name": "00. 이 책에 대하여.ipynb",
      "provenance": [],
      "authorship_tag": "ABX9TyPJswl+YXVJ8Kkp915fhJZS",
      "include_colab_link": true
    },
    "kernelspec": {
      "name": "python3",
      "display_name": "Python 3"
    }
  },
  "cells": [
    {
      "cell_type": "markdown",
      "metadata": {
        "id": "view-in-github",
        "colab_type": "text"
      },
      "source": [
        "<a href=\"https://colab.research.google.com/github/Steve-YJ/Data-Science-scratch/blob/master/00_%EC%9D%B4_%EC%B1%85%EC%97%90_%EB%8C%80%ED%95%98%EC%97%AC.ipynb\" target=\"_parent\"><img src=\"https://colab.research.google.com/assets/colab-badge.svg\" alt=\"Open In Colab\"/></a>"
      ]
    },
    {
      "cell_type": "markdown",
      "metadata": {
        "id": "SNYKf2hfpxQ7"
      },
      "source": [
        "# README.md\n",
        "> 본 노트북은 파이썬 라이브러리를 활용한 머신러닝(안드레아스 뮐러, 한빛미디어)를 공부하며 작성한 노트북입니다\n"
      ]
    },
    {
      "cell_type": "markdown",
      "metadata": {
        "id": "SddfHAOyqBZ5"
      },
      "source": [
        "## 이 책에 대하여\n",
        "* 최근 의료 진단부터 소셜 네트워크 친구 추천까지 머신러닝이 많은 상용 어플이케이션과 연구 프로젝트에서 꼭 필요한 요소가 되었습니다\n",
        "* 대부분의 사람들은 머신러닝이 연구 인력이 많은 큰 회사에서나 적용하는 것으로 생각합니다만 저자는 머신러닝 솔루션을 누구나 쉽게 만들 수 있다고 자부합니다\n",
        "* 이 책을 통해 머신러닝 솔루션을 얼마나 쉽게 만들 수 있는지, 최선의 방법은 무엇인지 탐구해봅니다\n",
        "<br>\n",
        "\n",
        "### 누구를 위한 책인가\n",
        "* 이 책은 머신러닝으로 실제 문제에 대한 해법을 찾는 머신러닝 기술자와 예비 기술자를 위해 썼습니다\n",
        "* 특이한 점은 머신러닝과 인공지능에 대한 <code>사전 지식이 필요없는 입문서</code>라는 점입니다\n",
        "* scikit-learn에 중점을 두었으며 머신러닝 애플리케이션을 성공적으로 만들기 위한 모든 단계를 밟아갑니다\n",
        "* 데이터 전문가와 연구자, 과학자에게도 도움이 될 수 있도록 유용한 내용들을 담았습니다\n",
        "* 앞서 이 책은 <code>사전 지식이 필요없는 책</code>이라고 했습니다\n",
        "    * 그만큼 수학보다는 머신러닝 알고리즘을 실용적으로 사용하는 데 초점을 맞췄습니다\n",
        "    * 통계, 수학에 집중하기 보다는 sklearn 라이브러리를 통해 이미 구현된 방대한 양의 모델을 사용하는 방법에 대해 집중해봅니다\n",
        "* 미적분, 선형대수, 확률을 공부하지 않았더라도 이책으로 머신러닝을 시작하길 바라는 저자의 인사말로 마무리를 합니다\n",
        "\n",
        "### 이 책의 구성\n",
        "* 1장 - 머신러닝과 머신러닝 애플리케이션 기초\n",
        "* 2장, 3장 - 실전 머신러닝 알고리즘 설명 및 장.단점 분석\n",
        "* 4장 - 머신러닝에서의 데이터 표현 방법, 데이터 분석\n",
        "* 5장 - 모델 평가 매개변수 튜닝을 위한 고급 방법, 교차 검증 및 그리드 서치\n",
        "* 6장 - 모델 연결, 워크플로우 캡슐화 -> 파이프라인(Pipelines)\n",
        "* 7장 - 텍스트 데이터 분석 방법\n",
        "* 8장 - 개괄적인 정리, 더 어려운 주제에 대한 참고\n",
        "\n",
        "### 팁(Tips)!\n",
        "> 머신러닝 시스템을 가능한 빨리 구축해야한다면 1장의 중요 내용을 설명하는 2장의 서두를 읽는것을 추천합니다. 그런 다음 지도 학습모델을 모두 나열한 2장의 '요약.정리'를 보시면 됩니다\n",
        "\n",
        "### 예제 소스 내려받기\n",
        "* 역자의 github을 통해 예제 소스를 받으실 수 있습니다"
      ]
    },
    {
      "cell_type": "code",
      "metadata": {
        "id": "pJiUgnJKpuwZ"
      },
      "source": [
        ""
      ],
      "execution_count": null,
      "outputs": []
    }
  ]
}