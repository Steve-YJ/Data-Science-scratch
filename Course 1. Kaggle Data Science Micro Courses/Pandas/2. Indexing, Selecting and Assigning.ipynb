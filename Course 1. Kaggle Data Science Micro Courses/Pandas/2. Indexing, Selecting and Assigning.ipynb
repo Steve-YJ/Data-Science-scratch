{
 "cells": [
  {
   "cell_type": "markdown",
   "metadata": {},
   "source": [
    "## Introduction\n",
    "\n",
    "Selecting specific values of a pandas DataFrame or Series to work on is an implicit step in almost any data operation you'll run, so one of the first things you need to learn in working with data in Python is how to go about selecting the data points relevant to you quickly and effectively."
   ]
  },
  {
   "cell_type": "markdown",
   "metadata": {},
   "source": [
    "* Tips\n",
    "    * In Python, we can access the property of an object by accessing it as an attribute\n",
    "    * A book object, for example, might have a <code>title</code> property, which we can access by calling <code>book.title</code>. Columns in a pandas DataFrame work in much the same way."
   ]
  },
  {
   "cell_type": "markdown",
   "metadata": {},
   "source": [
    "* Tips\n",
    "    * Like dictionary, we can access property using indexing <code>[]</code> operator\n",
    "    * <code>book['title']</code>"
   ]
  },
  {
   "cell_type": "markdown",
   "metadata": {},
   "source": [
    "These are the two ways of selecting a specific Series out of a DataFrame. Neither of them is more or less syntactically valid than the other, but the indexing operator <code>[]</code> does have the advantage that it can handle column names with reserved characters in them \n",
    "\n",
    "(e.g. if we had a country providence column, reviews.country providence wouldn't work)."
   ]
  },
  {
   "cell_type": "markdown",
   "metadata": {},
   "source": [
    "To drill down to a single value, we need only use the indexing operator <code>[]</code>\n",
    "* <code>book['title'][0]</code>\n",
    "* <code>book.title[0]</code>"
   ]
  },
  {
   "cell_type": "markdown",
   "metadata": {},
   "source": [
    "## Indexing in pandas"
   ]
  },
  {
   "cell_type": "markdown",
   "metadata": {},
   "source": [
    "pandas has its own accessor operators\n",
    "* <code>loc</code> and <code>iloc</code>\n",
    "\n",
    "for more advanced operations, there are ones you're supposed to be using"
   ]
  },
  {
   "cell_type": "markdown",
   "metadata": {},
   "source": [
    "### Index-based selection "
   ]
  },
  {
   "cell_type": "markdown",
   "metadata": {},
   "source": [
    "**Idex-based selection**: selecting data based on its numerical position in the data\n",
    "\n",
    "* To select the first row of data in a DataFrame, we may use the following\n",
    "\n",
    "    * <code>book.iloc[0]</code>"
   ]
  },
  {
   "cell_type": "markdown",
   "metadata": {},
   "source": [
    "Both <code>loc</code> and <code>iloc</code> are row-first, column-second.<br>\n",
    "This is the opposite of what we do in native Python, which is column-first, row-second"
   ]
  },
  {
   "cell_type": "markdown",
   "metadata": {},
   "source": [
    "* To get a column <code>iloc</code>, we can do the following:\n",
    "    * <code>book.iloc[:, 0]</code>"
   ]
  },
  {
   "cell_type": "markdown",
   "metadata": {},
   "source": [
    "<code>: Operator</code>, which also comes from native Python, means \"Everything\""
   ]
  },
  {
   "cell_type": "markdown",
   "metadata": {},
   "source": [
    "* It's also possible to pass a list:<br>\n",
    "    * <code>book.iloc[[0, 1, 2], 0]</code>"
   ]
  },
  {
   "cell_type": "markdown",
   "metadata": {},
   "source": [
    "* Finally, It's worth knowing that nagative numbers can be used in selection.\n",
    "    * This will start counting forwards from the end of the values\n",
    "    * <code>book.iloc[-5:]</code>"
   ]
  },
  {
   "cell_type": "markdown",
   "metadata": {},
   "source": [
    "### Label-based selection"
   ]
  },
  {
   "cell_type": "markdown",
   "metadata": {},
   "source": [
    "The second paradigm for attribute selection is the one followed by the <code>loc</code> operator: label-based selection<br>\n",
    "\n",
    "In this paradigm, it's the data index value, not its position, which matters."
   ]
  },
  {
   "cell_type": "markdown",
   "metadata": {},
   "source": [
    "<code>book.loc[0, 'title']</code>"
   ]
  },
  {
   "cell_type": "markdown",
   "metadata": {},
   "source": [
    "### Choosing between <code>loc</code> and <code>iloc</code>"
   ]
  },
  {
   "cell_type": "markdown",
   "metadata": {},
   "source": [
    "* <code>iloc</code> uses the Python stdlib indexing scheme, where the first element of the range is included and the last one excluded. \n",
    "* <code>loc</code> can index any stdlib type: strings"
   ]
  },
  {
   "cell_type": "markdown",
   "metadata": {},
   "source": [
    "## Manipulating the index "
   ]
  },
  {
   "cell_type": "markdown",
   "metadata": {},
   "source": [
    "Label-based selection derives its power from the labels in the index."
   ]
  },
  {
   "cell_type": "markdown",
   "metadata": {},
   "source": [
    "<code>book.set_index('title')</code>"
   ]
  },
  {
   "cell_type": "markdown",
   "metadata": {},
   "source": [
    "This is useful if you can come up with an index for the dataset which is better than the current one."
   ]
  },
  {
   "cell_type": "markdown",
   "metadata": {},
   "source": [
    "## Conditional selection "
   ]
  },
  {
   "cell_type": "markdown",
   "metadata": {},
   "source": [
    "So far we've been indexing various strides of data, using structural properties of the DataFrame itself. To do interesting things with the data, however, we often need to ask questions based on conditions."
   ]
  },
  {
   "cell_type": "markdown",
   "metadata": {},
   "source": [
    "For example, suppose that we're interested specifically in better-than-average wines produced in Italy."
   ]
  },
  {
   "cell_type": "markdown",
   "metadata": {},
   "source": [
    "We can start by checking if each wine is Italian or not:\n",
    "\n"
   ]
  },
  {
   "cell_type": "code",
   "execution_count": 1,
   "metadata": {},
   "outputs": [
    {
     "data": {
      "text/plain": [
       "\"\\nreview.country == 'Italy'\\n\\n\""
      ]
     },
     "execution_count": 1,
     "metadata": {},
     "output_type": "execute_result"
    }
   ],
   "source": [
    "'''\n",
    "review.country == 'Italy'\n",
    "\n",
    "'''"
   ]
  },
  {
   "cell_type": "markdown",
   "metadata": {},
   "source": [
    "This operation produced a Series of <code>True/False</code> booleans based on the country of each record. This result can then be used inside of loc to select the relevant data:"
   ]
  },
  {
   "cell_type": "code",
   "execution_count": 2,
   "metadata": {},
   "outputs": [
    {
     "data": {
      "text/plain": [
       "\"\\nreviews.loc[reviews.country == 'Italy']\\n\\n\""
      ]
     },
     "execution_count": 2,
     "metadata": {},
     "output_type": "execute_result"
    }
   ],
   "source": [
    "'''\n",
    "reviews.loc[reviews.country == 'Italy']\n",
    "\n",
    "'''"
   ]
  },
  {
   "cell_type": "markdown",
   "metadata": {},
   "source": [
    "## Assigning data "
   ]
  },
  {
   "cell_type": "markdown",
   "metadata": {},
   "source": [
    "Going the other way, assigning data to a DataFrame is easy. You can assign either a constant value:\n",
    "\n"
   ]
  },
  {
   "cell_type": "code",
   "execution_count": null,
   "metadata": {},
   "outputs": [],
   "source": []
  },
  {
   "cell_type": "markdown",
   "metadata": {},
   "source": [
    "## Reference\n",
    "* Faster Data Science Course/Pandas\n",
    "   * <a href='https://www.kaggle.com/residentmario/indexing-selecting-assigning' target='_blank'>Indexing, Selecting & Assigning</a>"
   ]
  }
 ],
 "metadata": {
  "kernelspec": {
   "display_name": "Python 3",
   "language": "python",
   "name": "python3"
  },
  "language_info": {
   "codemirror_mode": {
    "name": "ipython",
    "version": 3
   },
   "file_extension": ".py",
   "mimetype": "text/x-python",
   "name": "python",
   "nbconvert_exporter": "python",
   "pygments_lexer": "ipython3",
   "version": "3.7.6"
  }
 },
 "nbformat": 4,
 "nbformat_minor": 4
}
